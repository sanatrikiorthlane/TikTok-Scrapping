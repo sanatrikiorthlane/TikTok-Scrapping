{
 "cells": [
  {
   "cell_type": "markdown",
   "id": "76e3aaac",
   "metadata": {},
   "source": [
    "# Import libaries"
   ]
  },
  {
   "cell_type": "code",
   "execution_count": 1,
   "id": "c9081a7f",
   "metadata": {},
   "outputs": [],
   "source": [
    "import pandas as pd\n",
    "import numpy as np\n",
    "import re\n",
    "import seaborn as sns\n",
    "import matplotlib.pyplot as plt\n",
    "import warnings\n",
    "warnings.simplefilter(\"ignore\")"
   ]
  },
  {
   "cell_type": "markdown",
   "id": "66e32224",
   "metadata": {},
   "source": [
    "# Import dataset"
   ]
  },
  {
   "cell_type": "code",
   "execution_count": 47,
   "id": "bddbdbbf",
   "metadata": {},
   "outputs": [
    {
     "data": {
      "text/html": [
       "<div>\n",
       "<style scoped>\n",
       "    .dataframe tbody tr th:only-of-type {\n",
       "        vertical-align: middle;\n",
       "    }\n",
       "\n",
       "    .dataframe tbody tr th {\n",
       "        vertical-align: top;\n",
       "    }\n",
       "\n",
       "    .dataframe thead th {\n",
       "        text-align: right;\n",
       "    }\n",
       "</style>\n",
       "<table border=\"1\" class=\"dataframe\">\n",
       "  <thead>\n",
       "    <tr style=\"text-align: right;\">\n",
       "      <th></th>\n",
       "      <th>Unnamed: 0</th>\n",
       "      <th>username</th>\n",
       "      <th>subscriptions</th>\n",
       "      <th>subscribers</th>\n",
       "      <th>likes</th>\n",
       "      <th>descriptions</th>\n",
       "      <th>E-mail</th>\n",
       "      <th>localisation</th>\n",
       "      <th>External-URL</th>\n",
       "    </tr>\n",
       "  </thead>\n",
       "  <tbody>\n",
       "    <tr>\n",
       "      <th>0</th>\n",
       "      <td>0</td>\n",
       "      <td>@meredithduxbury</td>\n",
       "      <td>399</td>\n",
       "      <td>15600000.0</td>\n",
       "      <td>511000000.0</td>\n",
       "      <td>💄 MUA 💄\\nIg: @meredithduxbury</td>\n",
       "      <td>NaN</td>\n",
       "      <td></td>\n",
       "      <td>NaN</td>\n",
       "    </tr>\n",
       "    <tr>\n",
       "      <th>1</th>\n",
       "      <td>1</td>\n",
       "      <td>@noeminikita</td>\n",
       "      <td>319</td>\n",
       "      <td>13400000.0</td>\n",
       "      <td>326400000.0</td>\n",
       "      <td>noeminikita@bwm-com.com\\nInstagram: noeminikit...</td>\n",
       "      <td>noeminikita@bwm-com.com ,</td>\n",
       "      <td></td>\n",
       "      <td>NaN</td>\n",
       "    </tr>\n",
       "    <tr>\n",
       "      <th>2</th>\n",
       "      <td>2</td>\n",
       "      <td>@mikaylanogueira</td>\n",
       "      <td>138</td>\n",
       "      <td>13000000.0</td>\n",
       "      <td>882100000.0</td>\n",
       "      <td>MUA | 24 | Masshole | Why aren’t you following...</td>\n",
       "      <td>NaN</td>\n",
       "      <td></td>\n",
       "      <td>NaN</td>\n",
       "    </tr>\n",
       "    <tr>\n",
       "      <th>3</th>\n",
       "      <td>4</td>\n",
       "      <td>@nadina_ioana</td>\n",
       "      <td>24</td>\n",
       "      <td>11600000.0</td>\n",
       "      <td>227400000.0</td>\n",
       "      <td>Business: contact@nadinaioana.com\\nMy official...</td>\n",
       "      <td>contact@nadinaioana.com ,</td>\n",
       "      <td></td>\n",
       "      <td>NaN</td>\n",
       "    </tr>\n",
       "    <tr>\n",
       "      <th>4</th>\n",
       "      <td>6</td>\n",
       "      <td>@kaelimaee</td>\n",
       "      <td>202</td>\n",
       "      <td>9600000.0</td>\n",
       "      <td>288000000.0</td>\n",
       "      <td>new apartment tour on my YT!!\\nsd • 🕊🌿\\nkaeli@...</td>\n",
       "      <td>kaeli@palettemgmt.com ,</td>\n",
       "      <td></td>\n",
       "      <td>NaN</td>\n",
       "    </tr>\n",
       "    <tr>\n",
       "      <th>5</th>\n",
       "      <td>7</td>\n",
       "      <td>@benoit_chevalier</td>\n",
       "      <td>2818</td>\n",
       "      <td>9500000.0</td>\n",
       "      <td>477400000.0</td>\n",
       "      <td>9,4M d’amour merci 💕\\nbenoitch1383@hotmail.fr\\...</td>\n",
       "      <td>benoitch1383@hotmail.fr ,</td>\n",
       "      <td></td>\n",
       "      <td>NaN</td>\n",
       "    </tr>\n",
       "    <tr>\n",
       "      <th>6</th>\n",
       "      <td>8</td>\n",
       "      <td>@hudabeauty</td>\n",
       "      <td>222</td>\n",
       "      <td>8100000.0</td>\n",
       "      <td>162000000.0</td>\n",
       "      <td>Founder of Huda Beauty &amp;amp; Wishful\\n\\nTag us...</td>\n",
       "      <td>NaN</td>\n",
       "      <td></td>\n",
       "      <td>NaN</td>\n",
       "    </tr>\n",
       "    <tr>\n",
       "      <th>7</th>\n",
       "      <td>9</td>\n",
       "      <td>@marvinlaqueen</td>\n",
       "      <td>806</td>\n",
       "      <td>5000000.0</td>\n",
       "      <td>359700000.0</td>\n",
       "      <td>pro:marvinlaqueen@maxxinfluence.com</td>\n",
       "      <td>marvinlaqueen@maxxinfluence.com ,</td>\n",
       "      <td>France</td>\n",
       "      <td>NaN</td>\n",
       "    </tr>\n",
       "    <tr>\n",
       "      <th>8</th>\n",
       "      <td>10</td>\n",
       "      <td>@marta.losito</td>\n",
       "      <td>292</td>\n",
       "      <td>4500000.0</td>\n",
       "      <td>536900000.0</td>\n",
       "      <td>Mum of my fashion brand Glossy Orange💜💚</td>\n",
       "      <td>NaN</td>\n",
       "      <td></td>\n",
       "      <td>NaN</td>\n",
       "    </tr>\n",
       "    <tr>\n",
       "      <th>9</th>\n",
       "      <td>11</td>\n",
       "      <td>@irma.iryanto3</td>\n",
       "      <td>199</td>\n",
       "      <td>4500000.0</td>\n",
       "      <td>105200000.0</td>\n",
       "      <td>•skincare enthusiast• life style• shopping•</td>\n",
       "      <td>NaN</td>\n",
       "      <td></td>\n",
       "      <td>NaN</td>\n",
       "    </tr>\n",
       "  </tbody>\n",
       "</table>\n",
       "</div>"
      ],
      "text/plain": [
       "   Unnamed: 0           username  subscriptions  subscribers        likes  \\\n",
       "0           0   @meredithduxbury            399   15600000.0  511000000.0   \n",
       "1           1       @noeminikita            319   13400000.0  326400000.0   \n",
       "2           2   @mikaylanogueira            138   13000000.0  882100000.0   \n",
       "3           4      @nadina_ioana             24   11600000.0  227400000.0   \n",
       "4           6         @kaelimaee            202    9600000.0  288000000.0   \n",
       "5           7  @benoit_chevalier           2818    9500000.0  477400000.0   \n",
       "6           8        @hudabeauty            222    8100000.0  162000000.0   \n",
       "7           9     @marvinlaqueen            806    5000000.0  359700000.0   \n",
       "8          10      @marta.losito            292    4500000.0  536900000.0   \n",
       "9          11     @irma.iryanto3            199    4500000.0  105200000.0   \n",
       "\n",
       "                                        descriptions  \\\n",
       "0                      💄 MUA 💄\\nIg: @meredithduxbury   \n",
       "1  noeminikita@bwm-com.com\\nInstagram: noeminikit...   \n",
       "2  MUA | 24 | Masshole | Why aren’t you following...   \n",
       "3  Business: contact@nadinaioana.com\\nMy official...   \n",
       "4  new apartment tour on my YT!!\\nsd • 🕊🌿\\nkaeli@...   \n",
       "5  9,4M d’amour merci 💕\\nbenoitch1383@hotmail.fr\\...   \n",
       "6  Founder of Huda Beauty &amp; Wishful\\n\\nTag us...   \n",
       "7                pro:marvinlaqueen@maxxinfluence.com   \n",
       "8            Mum of my fashion brand Glossy Orange💜💚   \n",
       "9        •skincare enthusiast• life style• shopping•   \n",
       "\n",
       "                               E-mail localisation External-URL  \n",
       "0                                 NaN                       NaN  \n",
       "1          noeminikita@bwm-com.com ,                        NaN  \n",
       "2                                 NaN                       NaN  \n",
       "3          contact@nadinaioana.com ,                        NaN  \n",
       "4            kaeli@palettemgmt.com ,                        NaN  \n",
       "5          benoitch1383@hotmail.fr ,                        NaN  \n",
       "6                                 NaN                       NaN  \n",
       "7  marvinlaqueen@maxxinfluence.com ,        France          NaN  \n",
       "8                                 NaN                       NaN  \n",
       "9                                 NaN                       NaN  "
      ]
     },
     "execution_count": 47,
     "metadata": {},
     "output_type": "execute_result"
    }
   ],
   "source": [
    "data = pd.read_excel(\"C:/Users/ASUS/Desktop/dataset/dataset_influenceurs_final.xlsx\")\n",
    "data.head(10)"
   ]
  },
  {
   "cell_type": "markdown",
   "id": "2fd25eb7",
   "metadata": {},
   "source": [
    "# Import 17 languages dataset "
   ]
  },
  {
   "cell_type": "code",
   "execution_count": 5,
   "id": "c3bff04a",
   "metadata": {},
   "outputs": [
    {
     "data": {
      "text/html": [
       "<div>\n",
       "<style scoped>\n",
       "    .dataframe tbody tr th:only-of-type {\n",
       "        vertical-align: middle;\n",
       "    }\n",
       "\n",
       "    .dataframe tbody tr th {\n",
       "        vertical-align: top;\n",
       "    }\n",
       "\n",
       "    .dataframe thead th {\n",
       "        text-align: right;\n",
       "    }\n",
       "</style>\n",
       "<table border=\"1\" class=\"dataframe\">\n",
       "  <thead>\n",
       "    <tr style=\"text-align: right;\">\n",
       "      <th></th>\n",
       "      <th>Text</th>\n",
       "      <th>Language</th>\n",
       "    </tr>\n",
       "  </thead>\n",
       "  <tbody>\n",
       "    <tr>\n",
       "      <th>0</th>\n",
       "      <td>Nature, in the broadest sense, is the natural...</td>\n",
       "      <td>English</td>\n",
       "    </tr>\n",
       "    <tr>\n",
       "      <th>1</th>\n",
       "      <td>\"Nature\" can refer to the phenomena of the phy...</td>\n",
       "      <td>English</td>\n",
       "    </tr>\n",
       "    <tr>\n",
       "      <th>2</th>\n",
       "      <td>The study of nature is a large, if not the onl...</td>\n",
       "      <td>English</td>\n",
       "    </tr>\n",
       "    <tr>\n",
       "      <th>3</th>\n",
       "      <td>Although humans are part of nature, human acti...</td>\n",
       "      <td>English</td>\n",
       "    </tr>\n",
       "    <tr>\n",
       "      <th>4</th>\n",
       "      <td>[1] The word nature is borrowed from the Old F...</td>\n",
       "      <td>English</td>\n",
       "    </tr>\n",
       "    <tr>\n",
       "      <th>5</th>\n",
       "      <td>[2] In ancient philosophy, natura is mostly us...</td>\n",
       "      <td>English</td>\n",
       "    </tr>\n",
       "    <tr>\n",
       "      <th>6</th>\n",
       "      <td>[3][4] \\nThe concept of nature as a whole, the...</td>\n",
       "      <td>English</td>\n",
       "    </tr>\n",
       "    <tr>\n",
       "      <th>7</th>\n",
       "      <td>During the advent of modern scientific method ...</td>\n",
       "      <td>English</td>\n",
       "    </tr>\n",
       "    <tr>\n",
       "      <th>8</th>\n",
       "      <td>[5][6] With the Industrial revolution, nature ...</td>\n",
       "      <td>English</td>\n",
       "    </tr>\n",
       "    <tr>\n",
       "      <th>9</th>\n",
       "      <td>However, a vitalist vision of nature, closer t...</td>\n",
       "      <td>English</td>\n",
       "    </tr>\n",
       "  </tbody>\n",
       "</table>\n",
       "</div>"
      ],
      "text/plain": [
       "                                                Text Language\n",
       "0   Nature, in the broadest sense, is the natural...  English\n",
       "1  \"Nature\" can refer to the phenomena of the phy...  English\n",
       "2  The study of nature is a large, if not the onl...  English\n",
       "3  Although humans are part of nature, human acti...  English\n",
       "4  [1] The word nature is borrowed from the Old F...  English\n",
       "5  [2] In ancient philosophy, natura is mostly us...  English\n",
       "6  [3][4] \\nThe concept of nature as a whole, the...  English\n",
       "7  During the advent of modern scientific method ...  English\n",
       "8  [5][6] With the Industrial revolution, nature ...  English\n",
       "9  However, a vitalist vision of nature, closer t...  English"
      ]
     },
     "execution_count": 5,
     "metadata": {},
     "output_type": "execute_result"
    }
   ],
   "source": [
    "lang_data = pd.read_csv(\"C:/Users/ASUS/Desktop/Language Detection.csv\")\n",
    "lang_data.head(10)"
   ]
  },
  {
   "cell_type": "code",
   "execution_count": 7,
   "id": "1922d192",
   "metadata": {},
   "outputs": [
    {
     "data": {
      "text/plain": [
       "English       1385\n",
       "French        1014\n",
       "Spanish        819\n",
       "Portugeese     739\n",
       "Italian        698\n",
       "Russian        692\n",
       "Sweedish       676\n",
       "Malayalam      594\n",
       "Dutch          546\n",
       "Arabic         536\n",
       "Turkish        474\n",
       "German         470\n",
       "Tamil          469\n",
       "Danish         428\n",
       "Kannada        369\n",
       "Greek          365\n",
       "Hindi           63\n",
       "Name: Language, dtype: int64"
      ]
     },
     "execution_count": 7,
     "metadata": {},
     "output_type": "execute_result"
    }
   ],
   "source": [
    "lang_data[\"Language\"].value_counts()"
   ]
  },
  {
   "cell_type": "markdown",
   "id": "61e95e33",
   "metadata": {},
   "source": [
    "# Separating Independent and Dependent features"
   ]
  },
  {
   "cell_type": "code",
   "execution_count": 8,
   "id": "4b2acedb",
   "metadata": {},
   "outputs": [],
   "source": [
    "X = lang_data[\"Text\"]\n",
    "y = lang_data[\"Language\"]"
   ]
  },
  {
   "cell_type": "markdown",
   "id": "a2bfd1d8",
   "metadata": {},
   "source": [
    "# Label Encoding"
   ]
  },
  {
   "cell_type": "code",
   "execution_count": 9,
   "id": "fb92510a",
   "metadata": {},
   "outputs": [],
   "source": [
    "#For training the model we should have to convert it into a numerical form, so we are performing label encoding on that output variable. For this process, we are importing LabelEncoder from sklearn.\n",
    "from sklearn.preprocessing import LabelEncoder\n",
    "le = LabelEncoder()\n",
    "y = le.fit_transform(y)"
   ]
  },
  {
   "cell_type": "markdown",
   "id": "880910b1",
   "metadata": {},
   "source": [
    "# Text Preprocessing\n"
   ]
  },
  {
   "cell_type": "code",
   "execution_count": 10,
   "id": "36dfa66e",
   "metadata": {},
   "outputs": [],
   "source": [
    "#This is a dataset created using scraping the Wikipedia, so it contains many unwanted symbols, numbers which will affect the quality of our model. So we should perform text preprocessing techniques.\n",
    "# creating a list for appending the preprocessed text\n",
    "data_list = []\n",
    "# iterating through all the text\n",
    "for text in X:\n",
    "       # removing the symbols and numbers\n",
    "        text = re.sub(r'[!@#$(),n\"%^*?:;~`0-9]', ' ', text)\n",
    "        text = re.sub(r'[[]]', ' ', text)\n",
    "        # converting the text to lower case\n",
    "        text = text.lower()\n",
    "        # appending to data_list\n",
    "        data_list.append(text)"
   ]
  },
  {
   "cell_type": "markdown",
   "id": "c1cb1be1",
   "metadata": {},
   "source": [
    "# Bag of Words"
   ]
  },
  {
   "cell_type": "code",
   "execution_count": 12,
   "id": "0fc352fd",
   "metadata": {},
   "outputs": [
    {
     "data": {
      "text/plain": [
       "(10337, 34937)"
      ]
     },
     "execution_count": 12,
     "metadata": {},
     "output_type": "execute_result"
    }
   ],
   "source": [
    "#As we all know that, not only the output feature but also the input feature should be of the numerical form. So we are converting text into numerical form by creating a Bag of Words model using CountVectorizer.\n",
    "from sklearn.feature_extraction.text import CountVectorizer\n",
    "cv = CountVectorizer()\n",
    "X = cv.fit_transform(data_list).toarray()\n",
    "X.shape"
   ]
  },
  {
   "cell_type": "markdown",
   "id": "68fe2d9a",
   "metadata": {},
   "source": [
    "# Train Test Splitting"
   ]
  },
  {
   "cell_type": "code",
   "execution_count": 13,
   "id": "23d464c1",
   "metadata": {},
   "outputs": [],
   "source": [
    "#create the training set, for training the model and test set, for evaluating the test set.\n",
    "from sklearn.model_selection import train_test_split\n",
    "x_train, x_test, y_train, y_test = train_test_split(X, y, test_size = 0.20)"
   ]
  },
  {
   "cell_type": "markdown",
   "id": "b78baed5",
   "metadata": {},
   "source": [
    "# Model Training and Prediction"
   ]
  },
  {
   "cell_type": "code",
   "execution_count": 14,
   "id": "59c74d23",
   "metadata": {},
   "outputs": [
    {
     "data": {
      "text/plain": [
       "MultinomialNB()"
      ]
     },
     "execution_count": 14,
     "metadata": {},
     "output_type": "execute_result"
    }
   ],
   "source": [
    "#And we almost there, the model creation part. We are using the naive_bayes algorithm for our model creation. Later we are training the model using the training set.\n",
    "from sklearn.naive_bayes import MultinomialNB\n",
    "model = MultinomialNB()\n",
    "model.fit(x_train, y_train)"
   ]
  },
  {
   "cell_type": "code",
   "execution_count": 15,
   "id": "ab4a85c9",
   "metadata": {},
   "outputs": [],
   "source": [
    "#So we’ve trained our model using the training set. Now let’s predict the output for the test set.\n",
    "y_pred = model.predict(x_test)"
   ]
  },
  {
   "cell_type": "markdown",
   "id": "fdb3a720",
   "metadata": {},
   "source": [
    "# Model Evaluation"
   ]
  },
  {
   "cell_type": "code",
   "execution_count": 16,
   "id": "5ecaae1b",
   "metadata": {},
   "outputs": [
    {
     "name": "stdout",
     "output_type": "stream",
     "text": [
      "Accuracy is : 0.9782398452611218\n"
     ]
    }
   ],
   "source": [
    "from sklearn.metrics import accuracy_score, confusion_matrix, classification_report\n",
    "ac = accuracy_score(y_test, y_pred)\n",
    "cm = confusion_matrix(y_test, y_pred)\n",
    "\n",
    "print(\"Accuracy is :\",ac)"
   ]
  },
  {
   "cell_type": "markdown",
   "id": "026b1515",
   "metadata": {},
   "source": [
    "# plot"
   ]
  },
  {
   "cell_type": "code",
   "execution_count": 17,
   "id": "23c6e232",
   "metadata": {},
   "outputs": [
    {
     "data": {
      "image/png": "[encoded data removed]",
      "text/plain": [
       "<Figure size 1080x720 with 2 Axes>"
      ]
     },
     "metadata": {
      "needs_background": "light"
     },
     "output_type": "display_data"
    }
   ],
   "source": [
    "plt.figure(figsize=(15,10))\n",
    "sns.heatmap(cm, annot = True)\n",
    "plt.show()"
   ]
  },
  {
   "cell_type": "code",
   "execution_count": 18,
   "id": "e0655065",
   "metadata": {},
   "outputs": [],
   "source": [
    "#all predictions are almost right!"
   ]
  },
  {
   "cell_type": "markdown",
   "id": "93dc0636",
   "metadata": {},
   "source": [
    "# Predicting with some more data"
   ]
  },
  {
   "cell_type": "code",
   "execution_count": 34,
   "id": "7f324ad5",
   "metadata": {},
   "outputs": [],
   "source": [
    "def predict(text):\n",
    "     x = cv.transform([text]).toarray() # converting text to bag of words model (Vector)\n",
    "     lang = model.predict(x) # predicting the language\n",
    "     lang = le.inverse_transform(lang) # finding the language corresponding the the predicted value\n",
    "     #print(\"The langauge is in\",lang[0]) # printing the language\n",
    "     return lang[0]"
   ]
  },
  {
   "cell_type": "code",
   "execution_count": 35,
   "id": "d85d52d1",
   "metadata": {},
   "outputs": [
    {
     "data": {
      "text/plain": [
       "'English'"
      ]
     },
     "execution_count": 35,
     "metadata": {},
     "output_type": "execute_result"
    }
   ],
   "source": [
    "predict(\"Hello, it's me\")"
   ]
  },
  {
   "cell_type": "code",
   "execution_count": 36,
   "id": "a4d3cfdf",
   "metadata": {},
   "outputs": [
    {
     "data": {
      "text/plain": [
       "'French'"
      ]
     },
     "execution_count": 36,
     "metadata": {},
     "output_type": "execute_result"
    }
   ],
   "source": [
    "predict(\"Bonjour, c'est moi\")"
   ]
  },
  {
   "cell_type": "code",
   "execution_count": 31,
   "id": "6e01f211",
   "metadata": {},
   "outputs": [
    {
     "name": "stdout",
     "output_type": "stream",
     "text": [
      "The langauge is in English\n"
     ]
    }
   ],
   "source": [
    "predict(\"CEO of Voir Social Isobel@voirsocial.com\")"
   ]
  },
  {
   "cell_type": "markdown",
   "id": "2131d9cf",
   "metadata": {},
   "source": [
    "# Insert language column to our dataset"
   ]
  },
  {
   "cell_type": "code",
   "execution_count": 48,
   "id": "745a85ea",
   "metadata": {},
   "outputs": [
    {
     "data": {
      "text/html": [
       "<div>\n",
       "<style scoped>\n",
       "    .dataframe tbody tr th:only-of-type {\n",
       "        vertical-align: middle;\n",
       "    }\n",
       "\n",
       "    .dataframe tbody tr th {\n",
       "        vertical-align: top;\n",
       "    }\n",
       "\n",
       "    .dataframe thead th {\n",
       "        text-align: right;\n",
       "    }\n",
       "</style>\n",
       "<table border=\"1\" class=\"dataframe\">\n",
       "  <thead>\n",
       "    <tr style=\"text-align: right;\">\n",
       "      <th></th>\n",
       "      <th>Unnamed: 0</th>\n",
       "      <th>username</th>\n",
       "      <th>subscriptions</th>\n",
       "      <th>subscribers</th>\n",
       "      <th>likes</th>\n",
       "      <th>descriptions</th>\n",
       "      <th>E-mail</th>\n",
       "      <th>localisation</th>\n",
       "      <th>language</th>\n",
       "      <th>External-URL</th>\n",
       "    </tr>\n",
       "  </thead>\n",
       "  <tbody>\n",
       "    <tr>\n",
       "      <th>0</th>\n",
       "      <td>0</td>\n",
       "      <td>@meredithduxbury</td>\n",
       "      <td>399</td>\n",
       "      <td>15600000.0</td>\n",
       "      <td>511000000.0</td>\n",
       "      <td>💄 MUA 💄\\nIg: @meredithduxbury</td>\n",
       "      <td>NaN</td>\n",
       "      <td></td>\n",
       "      <td></td>\n",
       "      <td>NaN</td>\n",
       "    </tr>\n",
       "    <tr>\n",
       "      <th>1</th>\n",
       "      <td>1</td>\n",
       "      <td>@noeminikita</td>\n",
       "      <td>319</td>\n",
       "      <td>13400000.0</td>\n",
       "      <td>326400000.0</td>\n",
       "      <td>noeminikita@bwm-com.com\\nInstagram: noeminikit...</td>\n",
       "      <td>noeminikita@bwm-com.com ,</td>\n",
       "      <td></td>\n",
       "      <td></td>\n",
       "      <td>NaN</td>\n",
       "    </tr>\n",
       "    <tr>\n",
       "      <th>2</th>\n",
       "      <td>2</td>\n",
       "      <td>@mikaylanogueira</td>\n",
       "      <td>138</td>\n",
       "      <td>13000000.0</td>\n",
       "      <td>882100000.0</td>\n",
       "      <td>MUA | 24 | Masshole | Why aren’t you following...</td>\n",
       "      <td>NaN</td>\n",
       "      <td></td>\n",
       "      <td></td>\n",
       "      <td>NaN</td>\n",
       "    </tr>\n",
       "    <tr>\n",
       "      <th>3</th>\n",
       "      <td>4</td>\n",
       "      <td>@nadina_ioana</td>\n",
       "      <td>24</td>\n",
       "      <td>11600000.0</td>\n",
       "      <td>227400000.0</td>\n",
       "      <td>Business: contact@nadinaioana.com\\nMy official...</td>\n",
       "      <td>contact@nadinaioana.com ,</td>\n",
       "      <td></td>\n",
       "      <td></td>\n",
       "      <td>NaN</td>\n",
       "    </tr>\n",
       "    <tr>\n",
       "      <th>4</th>\n",
       "      <td>6</td>\n",
       "      <td>@kaelimaee</td>\n",
       "      <td>202</td>\n",
       "      <td>9600000.0</td>\n",
       "      <td>288000000.0</td>\n",
       "      <td>new apartment tour on my YT!!\\nsd • 🕊🌿\\nkaeli@...</td>\n",
       "      <td>kaeli@palettemgmt.com ,</td>\n",
       "      <td></td>\n",
       "      <td></td>\n",
       "      <td>NaN</td>\n",
       "    </tr>\n",
       "    <tr>\n",
       "      <th>...</th>\n",
       "      <td>...</td>\n",
       "      <td>...</td>\n",
       "      <td>...</td>\n",
       "      <td>...</td>\n",
       "      <td>...</td>\n",
       "      <td>...</td>\n",
       "      <td>...</td>\n",
       "      <td>...</td>\n",
       "      <td>...</td>\n",
       "      <td>...</td>\n",
       "    </tr>\n",
       "    <tr>\n",
       "      <th>1393</th>\n",
       "      <td>1806</td>\n",
       "      <td>@cxnstvce</td>\n",
       "      <td>453</td>\n",
       "      <td>3056.0</td>\n",
       "      <td>118700.0</td>\n",
       "      <td>GOOD VIBES ONLY\\nIg : cxnstvce</td>\n",
       "      <td>NaN</td>\n",
       "      <td></td>\n",
       "      <td></td>\n",
       "      <td>NaN</td>\n",
       "    </tr>\n",
       "    <tr>\n",
       "      <th>1394</th>\n",
       "      <td>1807</td>\n",
       "      <td>@marina_pmare</td>\n",
       "      <td>1127</td>\n",
       "      <td>3052.0</td>\n",
       "      <td>96000.0</td>\n",
       "      <td>Watch my story of living abroad\\n4yrs in 🇮🇹\\nN...</td>\n",
       "      <td>collabs_mari@yahoo.com ,</td>\n",
       "      <td>Paris</td>\n",
       "      <td></td>\n",
       "      <td>NaN</td>\n",
       "    </tr>\n",
       "    <tr>\n",
       "      <th>1395</th>\n",
       "      <td>1808</td>\n",
       "      <td>@bonjourlasmala</td>\n",
       "      <td>292</td>\n",
       "      <td>3037.0</td>\n",
       "      <td>10800.0</td>\n",
       "      <td>Je t’aide à gagner en visibilité sur les résea...</td>\n",
       "      <td>NaN</td>\n",
       "      <td></td>\n",
       "      <td></td>\n",
       "      <td>NaN</td>\n",
       "    </tr>\n",
       "    <tr>\n",
       "      <th>1396</th>\n",
       "      <td>1809</td>\n",
       "      <td>@geek.osphere</td>\n",
       "      <td>38</td>\n",
       "      <td>3031.0</td>\n",
       "      <td>153400.0</td>\n",
       "      <td>👇🏻Vente de cosmétiques Disney, Geek, Kawaii👇🏻\\...</td>\n",
       "      <td>NaN</td>\n",
       "      <td></td>\n",
       "      <td></td>\n",
       "      <td>NaN</td>\n",
       "    </tr>\n",
       "    <tr>\n",
       "      <th>1397</th>\n",
       "      <td>1810</td>\n",
       "      <td>@al_y_ssia</td>\n",
       "      <td>91</td>\n",
       "      <td>3023.0</td>\n",
       "      <td>120600.0</td>\n",
       "      <td>Ig : Al_y_ssia\\n\\nFashion student 🧵\\n\\nCompte ...</td>\n",
       "      <td>NaN</td>\n",
       "      <td></td>\n",
       "      <td></td>\n",
       "      <td>NaN</td>\n",
       "    </tr>\n",
       "  </tbody>\n",
       "</table>\n",
       "<p>1398 rows × 10 columns</p>\n",
       "</div>"
      ],
      "text/plain": [
       "      Unnamed: 0          username  subscriptions  subscribers        likes  \\\n",
       "0              0  @meredithduxbury            399   15600000.0  511000000.0   \n",
       "1              1      @noeminikita            319   13400000.0  326400000.0   \n",
       "2              2  @mikaylanogueira            138   13000000.0  882100000.0   \n",
       "3              4     @nadina_ioana             24   11600000.0  227400000.0   \n",
       "4              6        @kaelimaee            202    9600000.0  288000000.0   \n",
       "...          ...               ...            ...          ...          ...   \n",
       "1393        1806         @cxnstvce            453       3056.0     118700.0   \n",
       "1394        1807     @marina_pmare           1127       3052.0      96000.0   \n",
       "1395        1808   @bonjourlasmala            292       3037.0      10800.0   \n",
       "1396        1809     @geek.osphere             38       3031.0     153400.0   \n",
       "1397        1810        @al_y_ssia             91       3023.0     120600.0   \n",
       "\n",
       "                                           descriptions  \\\n",
       "0                         💄 MUA 💄\\nIg: @meredithduxbury   \n",
       "1     noeminikita@bwm-com.com\\nInstagram: noeminikit...   \n",
       "2     MUA | 24 | Masshole | Why aren’t you following...   \n",
       "3     Business: contact@nadinaioana.com\\nMy official...   \n",
       "4     new apartment tour on my YT!!\\nsd • 🕊🌿\\nkaeli@...   \n",
       "...                                                 ...   \n",
       "1393                     GOOD VIBES ONLY\\nIg : cxnstvce   \n",
       "1394  Watch my story of living abroad\\n4yrs in 🇮🇹\\nN...   \n",
       "1395  Je t’aide à gagner en visibilité sur les résea...   \n",
       "1396  👇🏻Vente de cosmétiques Disney, Geek, Kawaii👇🏻\\...   \n",
       "1397  Ig : Al_y_ssia\\n\\nFashion student 🧵\\n\\nCompte ...   \n",
       "\n",
       "                          E-mail localisation language External-URL  \n",
       "0                            NaN                                NaN  \n",
       "1     noeminikita@bwm-com.com ,                                 NaN  \n",
       "2                            NaN                                NaN  \n",
       "3     contact@nadinaioana.com ,                                 NaN  \n",
       "4       kaeli@palettemgmt.com ,                                 NaN  \n",
       "...                          ...          ...      ...          ...  \n",
       "1393                         NaN                                NaN  \n",
       "1394   collabs_mari@yahoo.com ,         Paris                   NaN  \n",
       "1395                         NaN                                NaN  \n",
       "1396                         NaN                                NaN  \n",
       "1397                         NaN                                NaN  \n",
       "\n",
       "[1398 rows x 10 columns]"
      ]
     },
     "execution_count": 48,
     "metadata": {},
     "output_type": "execute_result"
    }
   ],
   "source": [
    "data.insert(8, \"language\", \"\")\n",
    "data"
   ]
  },
  {
   "cell_type": "markdown",
   "id": "3b2f88e3",
   "metadata": {},
   "source": [
    "# Add language to each row"
   ]
  },
  {
   "cell_type": "code",
   "execution_count": 49,
   "id": "7847ffdc",
   "metadata": {},
   "outputs": [],
   "source": [
    "import re\n",
    "for i in range(len(data)) :\n",
    "    \n",
    "    text = str(data[\"descriptions\"].iloc[i])\n",
    "    lang = ''\n",
    "    lang = predict(text)\n",
    "    data[\"language\"].loc[i]=lang"
   ]
  },
  {
   "cell_type": "code",
   "execution_count": 50,
   "id": "12868be1",
   "metadata": {},
   "outputs": [
    {
     "data": {
      "text/html": [
       "<div>\n",
       "<style scoped>\n",
       "    .dataframe tbody tr th:only-of-type {\n",
       "        vertical-align: middle;\n",
       "    }\n",
       "\n",
       "    .dataframe tbody tr th {\n",
       "        vertical-align: top;\n",
       "    }\n",
       "\n",
       "    .dataframe thead th {\n",
       "        text-align: right;\n",
       "    }\n",
       "</style>\n",
       "<table border=\"1\" class=\"dataframe\">\n",
       "  <thead>\n",
       "    <tr style=\"text-align: right;\">\n",
       "      <th></th>\n",
       "      <th>Unnamed: 0</th>\n",
       "      <th>username</th>\n",
       "      <th>subscriptions</th>\n",
       "      <th>subscribers</th>\n",
       "      <th>likes</th>\n",
       "      <th>descriptions</th>\n",
       "      <th>E-mail</th>\n",
       "      <th>localisation</th>\n",
       "      <th>language</th>\n",
       "      <th>External-URL</th>\n",
       "    </tr>\n",
       "  </thead>\n",
       "  <tbody>\n",
       "    <tr>\n",
       "      <th>0</th>\n",
       "      <td>0</td>\n",
       "      <td>@meredithduxbury</td>\n",
       "      <td>399</td>\n",
       "      <td>15600000.0</td>\n",
       "      <td>511000000.0</td>\n",
       "      <td>💄 MUA 💄\\nIg: @meredithduxbury</td>\n",
       "      <td>NaN</td>\n",
       "      <td></td>\n",
       "      <td>Danish</td>\n",
       "      <td>NaN</td>\n",
       "    </tr>\n",
       "    <tr>\n",
       "      <th>1</th>\n",
       "      <td>1</td>\n",
       "      <td>@noeminikita</td>\n",
       "      <td>319</td>\n",
       "      <td>13400000.0</td>\n",
       "      <td>326400000.0</td>\n",
       "      <td>noeminikita@bwm-com.com\\nInstagram: noeminikit...</td>\n",
       "      <td>noeminikita@bwm-com.com ,</td>\n",
       "      <td></td>\n",
       "      <td>Portugeese</td>\n",
       "      <td>NaN</td>\n",
       "    </tr>\n",
       "    <tr>\n",
       "      <th>2</th>\n",
       "      <td>2</td>\n",
       "      <td>@mikaylanogueira</td>\n",
       "      <td>138</td>\n",
       "      <td>13000000.0</td>\n",
       "      <td>882100000.0</td>\n",
       "      <td>MUA | 24 | Masshole | Why aren’t you following...</td>\n",
       "      <td>NaN</td>\n",
       "      <td></td>\n",
       "      <td>English</td>\n",
       "      <td>NaN</td>\n",
       "    </tr>\n",
       "    <tr>\n",
       "      <th>3</th>\n",
       "      <td>4</td>\n",
       "      <td>@nadina_ioana</td>\n",
       "      <td>24</td>\n",
       "      <td>11600000.0</td>\n",
       "      <td>227400000.0</td>\n",
       "      <td>Business: contact@nadinaioana.com\\nMy official...</td>\n",
       "      <td>contact@nadinaioana.com ,</td>\n",
       "      <td></td>\n",
       "      <td>English</td>\n",
       "      <td>NaN</td>\n",
       "    </tr>\n",
       "    <tr>\n",
       "      <th>4</th>\n",
       "      <td>6</td>\n",
       "      <td>@kaelimaee</td>\n",
       "      <td>202</td>\n",
       "      <td>9600000.0</td>\n",
       "      <td>288000000.0</td>\n",
       "      <td>new apartment tour on my YT!!\\nsd • 🕊🌿\\nkaeli@...</td>\n",
       "      <td>kaeli@palettemgmt.com ,</td>\n",
       "      <td></td>\n",
       "      <td>English</td>\n",
       "      <td>NaN</td>\n",
       "    </tr>\n",
       "    <tr>\n",
       "      <th>...</th>\n",
       "      <td>...</td>\n",
       "      <td>...</td>\n",
       "      <td>...</td>\n",
       "      <td>...</td>\n",
       "      <td>...</td>\n",
       "      <td>...</td>\n",
       "      <td>...</td>\n",
       "      <td>...</td>\n",
       "      <td>...</td>\n",
       "      <td>...</td>\n",
       "    </tr>\n",
       "    <tr>\n",
       "      <th>1393</th>\n",
       "      <td>1806</td>\n",
       "      <td>@cxnstvce</td>\n",
       "      <td>453</td>\n",
       "      <td>3056.0</td>\n",
       "      <td>118700.0</td>\n",
       "      <td>GOOD VIBES ONLY\\nIg : cxnstvce</td>\n",
       "      <td>NaN</td>\n",
       "      <td></td>\n",
       "      <td>English</td>\n",
       "      <td>NaN</td>\n",
       "    </tr>\n",
       "    <tr>\n",
       "      <th>1394</th>\n",
       "      <td>1807</td>\n",
       "      <td>@marina_pmare</td>\n",
       "      <td>1127</td>\n",
       "      <td>3052.0</td>\n",
       "      <td>96000.0</td>\n",
       "      <td>Watch my story of living abroad\\n4yrs in 🇮🇹\\nN...</td>\n",
       "      <td>collabs_mari@yahoo.com ,</td>\n",
       "      <td>Paris</td>\n",
       "      <td>English</td>\n",
       "      <td>NaN</td>\n",
       "    </tr>\n",
       "    <tr>\n",
       "      <th>1395</th>\n",
       "      <td>1808</td>\n",
       "      <td>@bonjourlasmala</td>\n",
       "      <td>292</td>\n",
       "      <td>3037.0</td>\n",
       "      <td>10800.0</td>\n",
       "      <td>Je t’aide à gagner en visibilité sur les résea...</td>\n",
       "      <td>NaN</td>\n",
       "      <td></td>\n",
       "      <td>French</td>\n",
       "      <td>NaN</td>\n",
       "    </tr>\n",
       "    <tr>\n",
       "      <th>1396</th>\n",
       "      <td>1809</td>\n",
       "      <td>@geek.osphere</td>\n",
       "      <td>38</td>\n",
       "      <td>3031.0</td>\n",
       "      <td>153400.0</td>\n",
       "      <td>👇🏻Vente de cosmétiques Disney, Geek, Kawaii👇🏻\\...</td>\n",
       "      <td>NaN</td>\n",
       "      <td></td>\n",
       "      <td>French</td>\n",
       "      <td>NaN</td>\n",
       "    </tr>\n",
       "    <tr>\n",
       "      <th>1397</th>\n",
       "      <td>1810</td>\n",
       "      <td>@al_y_ssia</td>\n",
       "      <td>91</td>\n",
       "      <td>3023.0</td>\n",
       "      <td>120600.0</td>\n",
       "      <td>Ig : Al_y_ssia\\n\\nFashion student 🧵\\n\\nCompte ...</td>\n",
       "      <td>NaN</td>\n",
       "      <td></td>\n",
       "      <td>French</td>\n",
       "      <td>NaN</td>\n",
       "    </tr>\n",
       "  </tbody>\n",
       "</table>\n",
       "<p>1398 rows × 10 columns</p>\n",
       "</div>"
      ],
      "text/plain": [
       "      Unnamed: 0          username  subscriptions  subscribers        likes  \\\n",
       "0              0  @meredithduxbury            399   15600000.0  511000000.0   \n",
       "1              1      @noeminikita            319   13400000.0  326400000.0   \n",
       "2              2  @mikaylanogueira            138   13000000.0  882100000.0   \n",
       "3              4     @nadina_ioana             24   11600000.0  227400000.0   \n",
       "4              6        @kaelimaee            202    9600000.0  288000000.0   \n",
       "...          ...               ...            ...          ...          ...   \n",
       "1393        1806         @cxnstvce            453       3056.0     118700.0   \n",
       "1394        1807     @marina_pmare           1127       3052.0      96000.0   \n",
       "1395        1808   @bonjourlasmala            292       3037.0      10800.0   \n",
       "1396        1809     @geek.osphere             38       3031.0     153400.0   \n",
       "1397        1810        @al_y_ssia             91       3023.0     120600.0   \n",
       "\n",
       "                                           descriptions  \\\n",
       "0                         💄 MUA 💄\\nIg: @meredithduxbury   \n",
       "1     noeminikita@bwm-com.com\\nInstagram: noeminikit...   \n",
       "2     MUA | 24 | Masshole | Why aren’t you following...   \n",
       "3     Business: contact@nadinaioana.com\\nMy official...   \n",
       "4     new apartment tour on my YT!!\\nsd • 🕊🌿\\nkaeli@...   \n",
       "...                                                 ...   \n",
       "1393                     GOOD VIBES ONLY\\nIg : cxnstvce   \n",
       "1394  Watch my story of living abroad\\n4yrs in 🇮🇹\\nN...   \n",
       "1395  Je t’aide à gagner en visibilité sur les résea...   \n",
       "1396  👇🏻Vente de cosmétiques Disney, Geek, Kawaii👇🏻\\...   \n",
       "1397  Ig : Al_y_ssia\\n\\nFashion student 🧵\\n\\nCompte ...   \n",
       "\n",
       "                          E-mail localisation    language External-URL  \n",
       "0                            NaN                   Danish          NaN  \n",
       "1     noeminikita@bwm-com.com ,                Portugeese          NaN  \n",
       "2                            NaN                  English          NaN  \n",
       "3     contact@nadinaioana.com ,                   English          NaN  \n",
       "4       kaeli@palettemgmt.com ,                   English          NaN  \n",
       "...                          ...          ...         ...          ...  \n",
       "1393                         NaN                  English          NaN  \n",
       "1394   collabs_mari@yahoo.com ,         Paris     English          NaN  \n",
       "1395                         NaN                   French          NaN  \n",
       "1396                         NaN                   French          NaN  \n",
       "1397                         NaN                   French          NaN  \n",
       "\n",
       "[1398 rows x 10 columns]"
      ]
     },
     "execution_count": 50,
     "metadata": {},
     "output_type": "execute_result"
    }
   ],
   "source": [
    "data"
   ]
  },
  {
   "cell_type": "markdown",
   "id": "904291ac",
   "metadata": {},
   "source": [
    "# To excel file"
   ]
  },
  {
   "cell_type": "code",
   "execution_count": 51,
   "id": "142287d8",
   "metadata": {},
   "outputs": [
    {
     "name": "stdout",
     "output_type": "stream",
     "text": [
      "DataFrame is written to Excel File successfully.\n"
     ]
    }
   ],
   "source": [
    "data.to_excel('my_dataset.xlsx')\n",
    "print('DataFrame is written to Excel File successfully.')"
   ]
  },
  {
   "cell_type": "code",
   "execution_count": null,
   "id": "3f4d82fe",
   "metadata": {},
   "outputs": [],
   "source": []
  }
 ],
 "metadata": {
  "kernelspec": {
   "display_name": "Python 3 (ipykernel)",
   "language": "python",
   "name": "python3"
  },
  "language_info": {
   "codemirror_mode": {
    "name": "ipython",
    "version": 3
   },
   "file_extension": ".py",
   "mimetype": "text/x-python",
   "name": "python",
   "nbconvert_exporter": "python",
   "pygments_lexer": "ipython3",
   "version": "3.9.12"
  }
 },
 "nbformat": 4,
 "nbformat_minor": 5
}
